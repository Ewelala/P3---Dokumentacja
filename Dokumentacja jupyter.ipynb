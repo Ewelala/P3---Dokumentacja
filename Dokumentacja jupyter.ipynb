{
 "cells": [
  {
   "cell_type": "code",
   "execution_count": 4,
   "metadata": {},
   "outputs": [
    {
     "name": "stdout",
     "output_type": "stream",
     "text": [
      "Obliczanie sumy trzech zmienyych\n",
      "podaj zmienna a=  1\n",
      "podaj zmienna b=  1\n",
      "podaj zmienna c=  1\n",
      "Suma wprowadzonych liczb to: \n",
      "3\n"
     ]
    }
   ],
   "source": [
    "print (\"Obliczanie sumy trzech zmienyych\")\n",
    "\n",
    "a= int(input(\"podaj zmienna a=  \"))\n",
    "b= int(input(\"podaj zmienna b=  \"))\n",
    "c= int(input(\"podaj zmienna c=  \"))\n",
    "\n",
    "print(\"Suma wprowadzonych liczb to: \")\n",
    "print (a + b + c)"
   ]
  },
  {
   "cell_type": "code",
   "execution_count": 8,
   "metadata": {},
   "outputs": [
    {
     "name": "stdout",
     "output_type": "stream",
     "text": [
      "liczby pierwsze\n",
      "[1, 2, 3, 5, 7, 11, 13, 17, 19, 23, 29, 31, 37, 41, 43, 47, 53, 59, 61, 67, 71, 73, 79, 83, 89, 97, 101, 103, 107, 109]\n"
     ]
    }
   ],
   "source": [
    "print (\"liczby pierwsze\")\n",
    "def gen(n):\n",
    "    pierwsze=[]\n",
    "    i=2 \n",
    "    while len(pierwsze)<n-1:\n",
    "        jest=False\n",
    "        for a in pierwsze:\n",
    "            if i%a==0:\n",
    "                jest=True\n",
    "                break\n",
    "        if not jest:\n",
    "            pierwsze.append(i)\n",
    "        i+=1\n",
    "    pierwsze.insert(0,1) \n",
    "    return pierwsze\n",
    "print(gen(30))"
   ]
  },
  {
   "cell_type": "code",
   "execution_count": 1,
   "metadata": {},
   "outputs": [
    {
     "name": "stdout",
     "output_type": "stream",
     "text": [
      "mnożenie liczb\n",
      "podaj zmienna a=  2\n",
      "podaj zmienna b=  3\n",
      "Wynik mnożenia:\n",
      "6\n"
     ]
    }
   ],
   "source": [
    "print(\"mnożenie liczb\")\n",
    "\n",
    "a= int(input(\"podaj zmienna a=  \"))\n",
    "b= int(input(\"podaj zmienna b=  \"))\n",
    "\n",
    "print(\"Wynik mnożenia:\")\n",
    "\n",
    "print(a * b)"
   ]
  },
  {
   "cell_type": "code",
   "execution_count": null,
   "metadata": {},
   "outputs": [],
   "source": []
  }
 ],
 "metadata": {
  "kernelspec": {
   "display_name": "Python 3",
   "language": "python",
   "name": "python3"
  },
  "language_info": {
   "codemirror_mode": {
    "name": "ipython",
    "version": 3
   },
   "file_extension": ".py",
   "mimetype": "text/x-python",
   "name": "python",
   "nbconvert_exporter": "python",
   "pygments_lexer": "ipython3",
   "version": "3.7.4"
  }
 },
 "nbformat": 4,
 "nbformat_minor": 2
}
