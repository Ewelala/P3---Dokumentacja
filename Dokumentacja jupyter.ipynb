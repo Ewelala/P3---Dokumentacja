{
 "cells": [
  {
   "cell_type": "code",
   "execution_count": 4,
   "metadata": {},
   "outputs": [
    {
     "name": "stdout",
     "output_type": "stream",
     "text": [
      "Obliczanie sumy trzech zmienyych\n",
      "podaj zmienna a=  1\n",
      "podaj zmienna b=  1\n",
      "podaj zmienna c=  1\n",
      "Suma wprowadzonych liczb to: \n",
      "3\n"
     ]
    }
   ],
   "source": [
    "print (\"Obliczanie sumy trzech zmienyych\")\n",
    "\n",
    "a= int(input(\"podaj zmienna a=  \"))\n",
    "b= int(input(\"podaj zmienna b=  \"))\n",
    "c= int(input(\"podaj zmienna c=  \"))\n",
    "\n",
    "print(\"Suma wprowadzonych liczb to: \")\n",
    "print (a + b + c)"
   ]
  },
  {
   "cell_type": "code",
   "execution_count": 8,
   "metadata": {},
   "outputs": [
    {
     "name": "stdout",
     "output_type": "stream",
     "text": [
      "liczby pierwsze\n",
      "[1, 2, 3, 5, 7, 11, 13, 17, 19, 23, 29, 31, 37, 41, 43, 47, 53, 59, 61, 67, 71, 73, 79, 83, 89, 97, 101, 103, 107, 109]\n"
     ]
    }
   ],
   "source": [
    "print (\"liczby pierwsze\")\n",
    "def gen(n):\n",
    "    pierwsze=[]\n",
    "    i=2 \n",
    "    while len(pierwsze)<n-1:\n",
    "        jest=False\n",
    "        for a in pierwsze:\n",
    "            if i%a==0:\n",
    "                jest=True\n",
    "                break\n",
    "        if not jest:\n",
    "            pierwsze.append(i)\n",
    "        i+=1\n",
    "    pierwsze.insert(0,1) \n",
    "    return pierwsze\n",
    "print(gen(30))"
   ]
  },
  {
   "cell_type": "code",
   "execution_count": 1,
   "metadata": {},
   "outputs": [
    {
     "name": "stdout",
     "output_type": "stream",
     "text": [
      "mnożenie liczb\n",
      "podaj zmienna a=  2\n",
      "podaj zmienna b=  3\n",
      "Wynik mnożenia:\n",
      "6\n"
     ]
    }
   ],
   "source": [
    "print(\"mnożenie liczb\")\n",
    "\n",
    "a= int(input(\"podaj zmienna a=  \"))\n",
    "b= int(input(\"podaj zmienna b=  \"))\n",
    "\n",
    "print(\"Wynik mnożenia:\")\n",
    "\n",
    "print(a * b)"
   ]
  },
  {
   "cell_type": "code",
   "execution_count": 16,
   "metadata": {},
   "outputs": [
    {
     "name": "stdout",
     "output_type": "stream",
     "text": [
      "najwięcej dzielników\n",
      "4546\n",
      "Najwięcej dzielników ma liczba: 2520 ma ona 48 dzielników\n"
     ]
    }
   ],
   "source": [
    "print(\"najwięcej dzielników\")\n",
    "x =int(input())\n",
    "dzielniki = 0\n",
    "najdzielniki = 0\n",
    "liczba = 1\n",
    "index = 1\n",
    "y= 0\n",
    "while y<= x:\n",
    "    index = 1\n",
    "    dzielniki = 0\n",
    "    while index <=y:\n",
    "        if y%index ==0:\n",
    "             dzielniki +=1\n",
    "        index +=1\n",
    "            \n",
    "    if dzielniki>najdzielniki:\n",
    "        najdzielniki = dzielniki\n",
    "        liczba = y\n",
    "    y +=1\n",
    "print(\"Najwięcej dzielników ma liczba:\", liczba, \"ma ona\", najdzielniki, \"dzielników\")\n"
   ]
  },
  {
   "cell_type": "code",
   "execution_count": 19,
   "metadata": {},
   "outputs": [
    {
     "name": "stdout",
     "output_type": "stream",
     "text": [
      "wygenerój wzór\n",
      "*\n",
      "**\n",
      "***\n"
     ]
    }
   ],
   "source": [
    "print(\"wygenerój wzór\")\n",
    "\n",
    "i = 1\n",
    "while i<4:\n",
    "    print(\"*\"*i)\n",
    "    i = i+1\n"
   ]
  },
  {
   "cell_type": "code",
   "execution_count": 31,
   "metadata": {},
   "outputs": [
    {
     "name": "stdout",
     "output_type": "stream",
     "text": [
      "odliczanie wsteczne\n",
      "10\n",
      "9\n",
      "8\n",
      "7\n",
      "6\n",
      "5\n",
      "4\n",
      "3\n",
      "2\n",
      "1\n",
      "Startujemy!\n"
     ]
    }
   ],
   "source": [
    "print(\"odliczanie wsteczne\")\n",
    "a = 10\n",
    "while a>=0:\n",
    "    if a ==0:\n",
    "        print('Startujemy!')\n",
    "    else:\n",
    "        print(a)\n",
    "    a=a-1\n",
    "    \n",
    "        \n",
    "                \n",
    "           \n",
    "            "
   ]
  },
  {
   "cell_type": "code",
   "execution_count": 32,
   "metadata": {},
   "outputs": [
    {
     "name": "stdout",
     "output_type": "stream",
     "text": [
      "wyświel ciąg liczb parzystych w przedziale 1-20\n",
      "4\n",
      "6\n",
      "8\n",
      "10\n",
      "12\n",
      "14\n",
      "16\n",
      "18\n"
     ]
    }
   ],
   "source": [
    "print(\"wyświel ciąg liczb parzystych w przedziale 1-20\")\n",
    "i= 4\n",
    "while i < 19:\n",
    "    print(i)\n",
    "    i = i+2"
   ]
  },
  {
   "cell_type": "code",
   "execution_count": null,
   "metadata": {},
   "outputs": [],
   "source": []
  }
 ],
 "metadata": {
  "kernelspec": {
   "display_name": "Python 3",
   "language": "python",
   "name": "python3"
  },
  "language_info": {
   "codemirror_mode": {
    "name": "ipython",
    "version": 3
   },
   "file_extension": ".py",
   "mimetype": "text/x-python",
   "name": "python",
   "nbconvert_exporter": "python",
   "pygments_lexer": "ipython3",
   "version": "3.7.4"
  }
 },
 "nbformat": 4,
 "nbformat_minor": 2
}
